{
  "nbformat": 4,
  "nbformat_minor": 0,
  "metadata": {
    "colab": {
      "provenance": []
    },
    "kernelspec": {
      "name": "python3",
      "display_name": "Python 3"
    },
    "language_info": {
      "name": "python"
    }
  },
  "cells": [
    {
      "cell_type": "code",
      "execution_count": 5,
      "metadata": {
        "colab": {
          "base_uri": "https://localhost:8080/"
        },
        "id": "cGf1Ey0R4fwW",
        "outputId": "0db018b1-8317-41df-83ef-39b809a5372d"
      },
      "outputs": [
        {
          "output_type": "stream",
          "name": "stdout",
          "text": [
            "[[0 0 0 0 0]\n",
            " [0 1 1 1 0]\n",
            " [0 1 1 1 0]\n",
            " [0 1 1 1 0]\n",
            " [0 0 0 0 0]]\n"
          ]
        }
      ],
      "source": [
        "# tema 1\n",
        "\n",
        "import numpy as np\n",
        "\n",
        "# Crear un arreglo inicial con elementos iguales a 1\n",
        "arreglo_inicial = np.ones((3, 3), dtype=int)\n",
        "\n",
        "# Obtener las dimensiones del arreglo inicial\n",
        "filas, columnas = arreglo_inicial.shape\n",
        "\n",
        "# Crear un nuevo arreglo con un marco de ceros\n",
        "arreglo_con_marco = np.zeros((filas + 2, columnas + 2), dtype=int)\n",
        "\n",
        "# Copiar el arreglo inicial en el centro del arreglo con marco\n",
        "arreglo_con_marco[1:-1, 1:-1] = arreglo_inicial\n",
        "\n",
        "# Imprimir el arreglo con marco\n",
        "print(arreglo_con_marco)"
      ]
    },
    {
      "cell_type": "code",
      "source": [
        "# tema 2\n",
        "import numpy as np\n",
        "\n",
        "arreglo = np.arange(1, 101)  # Crear el arreglo de 1 a 100\n",
        "\n",
        "# Encontrar los elementos que son múltiplos de 2 y 3\n",
        "multiplos_2_y_3 = arreglo[(arreglo % 2 == 0) & (arreglo % 3 == 0)]\n",
        "\n",
        "# Calcular la suma de los elementos encontrados\n",
        "suma_elementos = np.sum(multiplos_2_y_3)\n",
        "\n",
        "print(\"Elementos múltiplos de 2 y 3:\", multiplos_2_y_3)\n",
        "print(\"Suma de los elementos encontrados:\", suma_elementos)"
      ],
      "metadata": {
        "colab": {
          "base_uri": "https://localhost:8080/"
        },
        "id": "mioht1VJ43hn",
        "outputId": "065604ca-fe86-4463-a480-c48c50ecd122"
      },
      "execution_count": 6,
      "outputs": [
        {
          "output_type": "stream",
          "name": "stdout",
          "text": [
            "Elementos múltiplos de 2 y 3: [ 6 12 18 24 30 36 42 48 54 60 66 72 78 84 90 96]\n",
            "Suma de los elementos encontrados: 816\n"
          ]
        }
      ]
    }
  ]
}